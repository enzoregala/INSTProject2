{
 "cells": [
  {
   "cell_type": "code",
   "execution_count": null,
   "metadata": {},
   "outputs": [
    {
     "name": "stdout",
     "output_type": "stream",
     "text": [
      "You have  10  tries left\n",
      "Letters already guessed: []\n",
      "Guess the word: ---------\n",
      "e\n",
      "Nope\n",
      "\n",
      "You have  9  tries left\n",
      "Letters already guessed: ['E']\n",
      "Guess the word: ---------\n",
      "x\n",
      "Yay\n",
      "\n",
      "You have  9  tries left\n",
      "Letters already guessed: ['E']\n",
      "Guess the word: X--------\n",
      "t\n",
      "Yay\n",
      "\n",
      "You have  9  tries left\n",
      "Letters already guessed: ['E']\n",
      "Guess the word: X------T-\n"
     ]
    }
   ],
   "source": [
    "from random import choice\n",
    "\n",
    "word = choice([\"WFIDSPQZ\", \"XHO\", \"TTDBFRT\", \"QQJYF\", \"ENQD\", \"DNPK\", \"CNTR\", \"EHWHOD\", \"TSVMOHOF\", \"XNOVFQGTM\"])\n",
    "\n",
    "guessed = []\n",
    "wrong = []\n",
    "\n",
    "tries = 10\n",
    "\n",
    "while tries > 0:\n",
    "\n",
    "    out = \"\"\n",
    "    for letter in word:\n",
    "        if letter in guessed:\n",
    "            out = out + letter\n",
    "        else:\n",
    "            out = out + \"-\"\n",
    "\n",
    "    if out == word:\n",
    "        break\n",
    "\n",
    "   \n",
    "    print(\"You have \" , tries, \" tries left\")\n",
    "    print(\"Letters already guessed:\", wrong)\n",
    "    print(\"Guess the word:\", out)\n",
    "\n",
    "    guess = input().upper()\n",
    "\n",
    "    if guess in guessed or guess in wrong:\n",
    "        print(\"Already guessed\", guess)\n",
    "    elif guess in word:\n",
    "        print(\"Yay\")\n",
    "        guessed.append(guess)\n",
    "    else:\n",
    "        print(\"Nope\")\n",
    "        tries = tries - 1\n",
    "        wrong.append(guess)\n",
    "\n",
    "    print()\n",
    "\n",
    "if tries:\n",
    "    print(\"You guessed\", word)\n",
    "else:\n",
    "    print(\"You ran out of lives, the word was\", word)"
   ]
  },
  {
   "cell_type": "code",
   "execution_count": 2,
   "metadata": {},
   "outputs": [],
   "source": [
    "def decrypt(ciphertext):\n",
    "    plaintext = \"\"\n",
    "    for i in range (0, len(plaintext)):\n",
    "        if i % 2 == 0:\n",
    "            plain_ascii = ciphertext[i]\n",
    "            cipher_ascii = ord(plain_ascii) - 1\n",
    "            plaintext = plaintext + str(chr(cipher_ascii))\n",
    "        else:\n",
    "            plain_ascii = ciphertext[i]\n",
    "            cipher_ascii = ord(plain_ascii) + 1\n",
    "            plaintext = plaintext + str(chr(cipherascii))\n",
    "        return plaintext"
   ]
  }
 ],
 "metadata": {
  "kernelspec": {
   "display_name": "Python 3",
   "language": "python",
   "name": "python3"
  },
  "language_info": {
   "codemirror_mode": {
    "name": "ipython",
    "version": 3
   },
   "file_extension": ".py",
   "mimetype": "text/x-python",
   "name": "python",
   "nbconvert_exporter": "python",
   "pygments_lexer": "ipython3",
   "version": "3.8.3"
  }
 },
 "nbformat": 4,
 "nbformat_minor": 4
}
